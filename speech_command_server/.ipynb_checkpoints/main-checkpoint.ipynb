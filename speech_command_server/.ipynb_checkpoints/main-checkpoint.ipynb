{
 "cells": [
  {
   "cell_type": "code",
   "execution_count": 1,
   "metadata": {},
   "outputs": [],
   "source": [
    "import os\n",
    "import numpy as np\n",
    "from librosa import stft\n",
    "from librosa.feature import melspectrogram\n",
    "from scipy.io.wavfile import read\n",
    "from models.cnn import *\n",
    "import tensorflow as tf"
   ]
  },
  {
   "cell_type": "code",
   "execution_count": 2,
   "metadata": {},
   "outputs": [],
   "source": [
    "# mfsc parameters\n",
    "n_fft = 1024\n",
    "hop_length = 256\n",
    "power = 2\n",
    "n_mels = 64\n",
    "n_mfcc = 20\n",
    "width = 3\n",
    "\n",
    "# model parameters\n",
    "num_of_class = 10\n",
    "input_size = [64, 63, 1] # [time, frequency, channel]\n",
    "class_list = ['down', 'up', 'stop', 'off', 'left', 'yes', 'no', 'right', 'on', 'go']"
   ]
  },
  {
   "cell_type": "code",
   "execution_count": 3,
   "metadata": {},
   "outputs": [
    {
     "name": "stdout",
     "output_type": "stream",
     "text": [
      "INFO:tensorflow:Restoring parameters from ./params/vgg_speech_command/vgg.ckpt\n"
     ]
    }
   ],
   "source": [
    "# model\n",
    "M = vgg(\n",
    "    size=input_size,\n",
    "    n_lbl=num_of_class,\n",
    "    lr=1e-3\n",
    ")\n",
    "M.restore('./params/vgg_speech_command/')"
   ]
  },
  {
   "cell_type": "code",
   "execution_count": 4,
   "metadata": {},
   "outputs": [],
   "source": [
    "def mfsc(x, sr):\n",
    "    # zero mean\n",
    "    x_mean = np.mean(x)\n",
    "    x_var  = np.var(x - x_mean)\n",
    "    x  = (x - x_mean) / np.sqrt(x_var + 1e-6)\n",
    "    \n",
    "    # spectrum\n",
    "    X = np.abs(stft(y=x, n_fft=n_fft, hop_length=hop_length)) ** power\n",
    "    S = np.log10(1 + 10 * (melspectrogram(S=X, sr=sr, n_mels=n_mels)))\n",
    "    \n",
    "    return np.reshape(S, [1, 64, 63, 1])"
   ]
  },
  {
   "cell_type": "code",
   "execution_count": 5,
   "metadata": {},
   "outputs": [
    {
     "name": "stdout",
     "output_type": "stream",
     "text": [
      "down\n"
     ]
    }
   ],
   "source": [
    "if __name__ == '__main__':\n",
    "    # load audio\n",
    "    sr, x = read('./down_example.wav') # must be one sec\n",
    "    x = np.array(x / 32768.0) # normalization\n",
    "    feature = mfsc(x, sr) # feature extraction\n",
    "\n",
    "    # inference\n",
    "    predict = M.predict(x=feature)[0] # output is one hot vector\n",
    "    predict = class_list[np.argmax(predict)]\n",
    "    print(predict)"
   ]
  },
  {
   "cell_type": "code",
   "execution_count": null,
   "metadata": {},
   "outputs": [],
   "source": []
  }
 ],
 "metadata": {
  "kernelspec": {
   "display_name": "Python 3",
   "language": "python",
   "name": "python3"
  },
  "language_info": {
   "codemirror_mode": {
    "name": "ipython",
    "version": 3
   },
   "file_extension": ".py",
   "mimetype": "text/x-python",
   "name": "python",
   "nbconvert_exporter": "python",
   "pygments_lexer": "ipython3",
   "version": "3.6.7"
  }
 },
 "nbformat": 4,
 "nbformat_minor": 2
}
